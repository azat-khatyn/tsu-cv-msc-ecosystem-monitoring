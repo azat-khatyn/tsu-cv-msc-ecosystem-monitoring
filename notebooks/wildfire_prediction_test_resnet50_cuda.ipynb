{
 "cells": [
  {
   "cell_type": "markdown",
   "metadata": {},
   "source": [
    "## Тестирование прогнозов риска пожара обученной модели ResNet50 - `wildfire_prediction_resnet50.pth` - на основе спутниковых снимков\n",
    "\n",
    "#### Датасет\n",
    "\n",
    "- https://www.kaggle.com/datasets/abdelghaniaaba/wildfire-prediction-dataset"
   ]
  },
  {
   "cell_type": "code",
   "execution_count": 46,
   "metadata": {
    "id": "JZtChoZ9Whl-"
   },
   "outputs": [],
   "source": [
    "import torch\n",
    "import torchvision\n",
    "import torchvision.transforms as transforms\n",
    "from torchvision import datasets, models\n",
    "\n",
    "import torch.nn as nn\n",
    "import torch.optim as optim\n",
    "from torch.utils.data import DataLoader\n",
    "\n",
    "import numpy as np\n",
    "import seaborn as sns\n",
    "import matplotlib.pyplot as plt\n",
    "from sklearn.metrics import confusion_matrix\n",
    "\n",
    "from sklearn.metrics import classification_report\n",
    "from sklearn.metrics import roc_curve, auc\n",
    "\n",
    "import os\n",
    "from PIL import ImageFile"
   ]
  },
  {
   "cell_type": "code",
   "execution_count": 50,
   "metadata": {},
   "outputs": [],
   "source": [
    "# импорт датасета из kaggle --- рекомендуется взять данные так, если запускать в colab ----\n",
    "\n",
    "# import kagglehub\n",
    "# path = kagglehub.dataset_download(\"abdelghaniaaba/wildfire-prediction-dataset\")\n",
    "# print(\"Path to dataset files:\", path)"
   ]
  },
  {
   "cell_type": "code",
   "execution_count": 75,
   "metadata": {
    "colab": {
     "base_uri": "https://localhost:8080/"
    },
    "id": "-Au9BrQjU54C",
    "outputId": "a0138f14-a463-4f22-e2aa-9a8732257865"
   },
   "outputs": [],
   "source": [
    "# датасет для прогнозирования пожаров\n",
    "# path=\"wildfire_data_set_path\" # путь к датасету  сохраненному локально\n",
    "path=\"K:\\\\EducationCV\\\\first_year\\\\hackathon\\\\WildFire\""
   ]
  },
  {
   "cell_type": "code",
   "execution_count": 77,
   "metadata": {},
   "outputs": [
    {
     "name": "stdout",
     "output_type": "stream",
     "text": [
      "Path to dataset files: K:\\EducationCV\\first_year\\hackathon\\WildFire\n",
      "['nowildfire', 'wildfire']\n"
     ]
    }
   ],
   "source": [
    "print(\"Path to dataset files:\", path)\n",
    "\n",
    "print(os.listdir(path+\"/test\"))"
   ]
  },
  {
   "cell_type": "code",
   "execution_count": 38,
   "metadata": {},
   "outputs": [
    {
     "name": "stdout",
     "output_type": "stream",
     "text": [
      "Classes: ['nowildfire', 'wildfire']\n"
     ]
    }
   ],
   "source": [
    "# загружаем уже тестовую выборку\n",
    "test_path = path + \"/test\"\n",
    "# Преобразуем в формат, понятный ResNet50\n",
    "transform = transforms.Compose([\n",
    "    transforms.Resize((224, 224)),  # Размер, который использует ResNet50\n",
    "    transforms.ToTensor(),  # Переводим в тензор\n",
    "    transforms.Normalize(mean=[0.485, 0.456, 0.406], std=[0.229, 0.224, 0.225])  # Нормализация\n",
    "])\n",
    "\n",
    "test_data = datasets.ImageFolder(root=test_path, transform=transform)\n",
    "\n",
    "test_loader = DataLoader(test_data, batch_size=32, shuffle=False)\n",
    "\n",
    "print(f\"Classes: {test_data.classes}\")  # Должно вывести ['nowildfire', 'wildfire']"
   ]
  },
  {
   "cell_type": "code",
   "execution_count": 64,
   "metadata": {
    "colab": {
     "base_uri": "https://localhost:8080/"
    },
    "id": "f1D-6JlsQu8a",
    "outputId": "3078e142-979b-4871-9aaa-9350d2a7a67b"
   },
   "outputs": [
    {
     "name": "stdout",
     "output_type": "stream",
     "text": [
      "cuda\n",
      "The model is loaded and ready\n"
     ]
    }
   ],
   "source": [
    "# Определяем количество классов\n",
    "num_classes = 2  # wildfire / no wildfire\n",
    "\n",
    "# Создаём модель\n",
    "\n",
    "# # проверяем, доступна ли в системе GPU (CUDA). Если да, то модель и данные будут загружены на GPU, если нет — будут использовать CPU.\n",
    "device = torch.device(\"cuda\" if torch.cuda.is_available() else \"cpu\")\n",
    "print(device)\n",
    "\n",
    "model = models.resnet50(weights=models.ResNet50_Weights.DEFAULT)\n",
    "model.fc = nn.Linear(model.fc.in_features, num_classes)  # Заменяем последний слой\n",
    "\n",
    "# Загружаем веса\n",
    "model.load_state_dict(torch.load(\"wildfire_prediction_resnet50.pth\", map_location=device)) # указывается путь и имя обученной модели\n",
    "model.to(device)\n",
    "model.eval()  # Переключаем в режим оценки\n",
    "\n",
    "print(\"The model is loaded and ready\")"
   ]
  },
  {
   "cell_type": "code",
   "execution_count": 42,
   "metadata": {},
   "outputs": [],
   "source": [
    "# определяем функцию потерь и оптимизатор\n",
    "criterion = nn.CrossEntropyLoss()\n",
    "optimizer = optim.Adam(model.fc.parameters(), lr=0.001)"
   ]
  },
  {
   "cell_type": "code",
   "execution_count": 44,
   "metadata": {
    "colab": {
     "base_uri": "https://localhost:8080/"
    },
    "id": "utaog-d0TR22",
    "outputId": "38f6baf1-7871-48c8-c40b-a8eec71f0c94"
   },
   "outputs": [
    {
     "name": "stdout",
     "output_type": "stream",
     "text": [
      "Prediction completed\n"
     ]
    }
   ],
   "source": [
    "ImageFile.LOAD_TRUNCATED_IMAGES = True\n",
    "\n",
    "test_loss = 0.0\n",
    "correct = 0\n",
    "total = 0\n",
    "\n",
    "# Получаем предсказания и реальные метки\n",
    "class_names = [\"No Wildfire\", \"Wildfire\"]\n",
    "all_preds = []\n",
    "all_labels = []\n",
    "\n",
    "# Получаем вероятности для классов\n",
    "all_probs = []\n",
    "\n",
    "with torch.no_grad():  # Отключаем вычисление градиентов\n",
    "    for images, labels in test_loader:\n",
    "        images, labels = images.to(device), labels.to(device)\n",
    "\n",
    "        outputs = model(images)  # Получаем предсказания\n",
    "        loss = criterion(outputs, labels)  # Считаем loss\n",
    "        test_loss += loss.item()\n",
    "\n",
    "        # Получаем предсказанный класс (наибольшая вероятность)\n",
    "        _, predicted = torch.max(outputs, 1)\n",
    "        total += labels.size(0)\n",
    "        correct += (predicted == labels).sum().item()\n",
    "\n",
    "        all_preds.extend(predicted.cpu().numpy())\n",
    "        all_labels.extend(labels.cpu().numpy())\n",
    "\n",
    "        probs = torch.nn.functional.softmax(outputs, dim=1)[:, 1]  # Берём вероятность класса \"Wildfire\"\n",
    "        all_probs.extend(probs.cpu().numpy())\n",
    "\n",
    "print(\"Prediction completed\")"
   ]
  },
  {
   "cell_type": "markdown",
   "metadata": {},
   "source": [
    "## Оценка качества модели"
   ]
  },
  {
   "cell_type": "code",
   "execution_count": 56,
   "metadata": {
    "colab": {
     "base_uri": "https://localhost:8080/",
     "height": 410
    },
    "id": "mgjzfVELuR47",
    "outputId": "c3aaf6d2-4e4b-44ee-c4b2-d7a88dd4268d"
   },
   "outputs": [
    {
     "name": "stdout",
     "output_type": "stream",
     "text": [
      "Test Loss: 0.0563, Test Accuracy: 98.06%\n"
     ]
    }
   ],
   "source": [
    "# Усредняем loss по количеству батчей\n",
    "test_loss /= len(test_loader)\n",
    "# Вычисляем точность\n",
    "accuracy = 100 * correct / total  \n",
    "\n",
    "print(f\"Test Loss: {test_loss:.4f}, Test Accuracy: {accuracy:.2f}%\")"
   ]
  },
  {
   "cell_type": "code",
   "execution_count": 58,
   "metadata": {
    "id": "hG97S74SWf52"
   },
   "outputs": [
    {
     "name": "stdout",
     "output_type": "stream",
     "text": [
      "              precision    recall  f1-score   support\n",
      "\n",
      " No Wildfire       0.97      0.98      0.98      2820\n",
      "    Wildfire       0.99      0.98      0.98      3479\n",
      "\n",
      "    accuracy                           0.98      6299\n",
      "   macro avg       0.98      0.98      0.98      6299\n",
      "weighted avg       0.98      0.98      0.98      6299\n",
      "\n"
     ]
    }
   ],
   "source": [
    "print(classification_report(all_labels, all_preds, target_names=class_names))"
   ]
  },
  {
   "cell_type": "code",
   "execution_count": 60,
   "metadata": {},
   "outputs": [
    {
     "data": {
      "image/png": "[encoded data removed]",
      "text/plain": [
       "<Figure size 500x400 with 2 Axes>"
      ]
     },
     "metadata": {},
     "output_type": "display_data"
    }
   ],
   "source": [
    "# Создаём confusion matrix\n",
    "cm = confusion_matrix(all_labels, all_preds)\n",
    "# Визуализируем\n",
    "plt.figure(figsize=(5,4))\n",
    "sns.heatmap(cm, annot=True, fmt=\"d\", cmap=\"Blues\", xticklabels=class_names, yticklabels=class_names)\n",
    "plt.xlabel(\"Predicted\")\n",
    "plt.ylabel(\"Actual\")\n",
    "plt.title(\"Confusion Matrix\")\n",
    "plt.show()"
   ]
  },
  {
   "cell_type": "code",
   "execution_count": 62,
   "metadata": {},
   "outputs": [
    {
     "data": {
      "image/png": "[encoded data removed]",
      "text/plain": [
       "<Figure size 600x500 with 1 Axes>"
      ]
     },
     "metadata": {},
     "output_type": "display_data"
    }
   ],
   "source": [
    "# Строим ROC-кривую\n",
    "fpr, tpr, _ = roc_curve(all_labels, all_probs)\n",
    "roc_auc = auc(fpr, tpr)\n",
    "\n",
    "plt.figure(figsize=(6,5))\n",
    "plt.plot(fpr, tpr, color='blue', label=f'ROC curve (area = {roc_auc:.2f})')\n",
    "plt.plot([0, 1], [0, 1], linestyle='--', color='gray')  # Линия случайного угадывания\n",
    "plt.xlabel('False Positive Rate')\n",
    "plt.ylabel('True Positive Rate')\n",
    "plt.title('ROC Curve')\n",
    "plt.legend()\n",
    "plt.show()"
   ]
  }
 ],
 "metadata": {
  "accelerator": "GPU",
  "colab": {
   "gpuType": "T4",
   "provenance": []
  },
  "kernelspec": {
   "display_name": "env_wildfire_cuda",
   "language": "python",
   "name": "env_wildfire_cuda"
  },
  "language_info": {
   "codemirror_mode": {
    "name": "ipython",
    "version": 3
   },
   "file_extension": ".py",
   "mimetype": "text/x-python",
   "name": "python",
   "nbconvert_exporter": "python",
   "pygments_lexer": "ipython3",
   "version": "3.12.7"
  }
 },
 "nbformat": 4,
 "nbformat_minor": 4
}
