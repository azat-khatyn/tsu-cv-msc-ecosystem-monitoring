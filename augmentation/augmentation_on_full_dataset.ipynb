{
 "cells": [
  {
   "cell_type": "code",
   "execution_count": null,
   "id": "dbbba42b-14bc-4d50-aada-92005ec5df7b",
   "metadata": {},
   "outputs": [],
   "source": [
    "import os\n",
    "import glob\n",
    "from torchvision import transforms\n",
    "from PIL import Image\n",
    "\n",
    "class ImageAugmentor:\n",
    "    def __init__(self, root_dir):\n",
    "        \"\"\"\n",
    "        Класс для загрузки изображений, их аугментации и сохранения в той же директории.\n",
    "        :param root_dir: директория с изображениями.\n",
    "        \"\"\"\n",
    "        self.root_dir = root_dir\n",
    "        self.image_paths = []\n",
    "        for ext in ('*.jpg', '*.jpeg', '*.tif'):\n",
    "            self.image_paths.extend(glob.glob(os.path.join(root_dir, ext)))\n",
    "        \n",
    "        self.transform = transforms.Compose([\n",
    "            transforms.RandomHorizontalFlip(p=0.5),  # Горизонтальный флип\n",
    "            transforms.RandomVerticalFlip(p=0.5),  # Вертикальный флип\n",
    "            transforms.ColorJitter(brightness=0.2, contrast=0.2, saturation=0.2, hue=0.1),  # Цветовые изменения\n",
    "            transforms.RandomResizedCrop(size=(256, int(256 * 1.5)), scale=(1.0, 1.5)),  # Ресайз\n",
    "            transforms.RandomRotation(degrees=30),  # Поворот до 30 градусов\n",
    "        ])\n",
    "    \n",
    "    def augment_and_save(self):\n",
    "        \"\"\" Аугментирует изображения и сохраняет их с новым именем. \"\"\"\n",
    "        for img_path in self.image_paths:\n",
    "            image = Image.open(img_path).convert('RGB')\n",
    "            transformed_image = self.transform(image)\n",
    "            \n",
    "            base_name, ext = os.path.splitext(os.path.basename(img_path))\n",
    "            new_name = f\"{base_name}_augmented{ext}\"\n",
    "            save_path = os.path.join(self.root_dir, new_name)\n",
    "            transformed_image.save(save_path)\n",
    "            print(f\"Сохранено: {save_path}\")"
   ]
  },
  {
   "cell_type": "code",
   "execution_count": null,
   "id": "57448cdf-e8ee-45e8-9e0e-777d24403784",
   "metadata": {},
   "outputs": [],
   "source": [
    "# Параметры\n",
    "root_directory = \"./data\"  # Папка с изображениями\n",
    "augmentor = ImageAugmentor(root_directory)\n",
    "augmentor.augment_and_save()"
   ]
  }
 ],
 "metadata": {
  "kernelspec": {
   "display_name": "Python 3 (ipykernel)",
   "language": "python",
   "name": "python3"
  },
  "language_info": {
   "codemirror_mode": {
    "name": "ipython",
    "version": 3
   },
   "file_extension": ".py",
   "mimetype": "text/x-python",
   "name": "python",
   "nbconvert_exporter": "python",
   "pygments_lexer": "ipython3",
   "version": "3.11.3"
  }
 },
 "nbformat": 4,
 "nbformat_minor": 5
}
