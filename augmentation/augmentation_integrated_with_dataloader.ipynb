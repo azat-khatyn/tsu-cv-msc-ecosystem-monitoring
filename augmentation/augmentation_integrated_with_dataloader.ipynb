{
 "cells": [
  {
   "cell_type": "markdown",
   "id": "d4f1bea7-3ecd-4d9a-81af-5bd9b75fb827",
   "metadata": {},
   "source": [
    "## 1. Импорт библиотек"
   ]
  },
  {
   "cell_type": "code",
   "execution_count": null,
   "id": "d5a51b6c-4a76-48e9-8fed-eeaa0d3efb33",
   "metadata": {},
   "outputs": [],
   "source": [
    "import os\n",
    "import cv2\n",
    "import torch\n",
    "from torch.utils.data import Dataset, DataLoader\n",
    "from torchvision import transforms\n",
    "from PIL import Image\n",
    "import matplotlib.pyplot as plt"
   ]
  },
  {
   "cell_type": "markdown",
   "id": "afdd5ff5-9458-49e0-ba4f-9f4e5cdb4c73",
   "metadata": {},
   "source": [
    "## 2. Класс для загрузки и аугментации данных"
   ]
  },
  {
   "cell_type": "code",
   "execution_count": null,
   "id": "a648e3fd-d195-44b9-bbc2-1e832815609a",
   "metadata": {},
   "outputs": [],
   "source": [
    "class AugmentedDataset(Dataset):\n",
    "    def __init__(self, img_dir, transform=None):\n",
    "        \"\"\"\n",
    "        Инициализация датасета.\n",
    "        :param img_dir: Путь к директории с изображениями.\n",
    "        :param transform: Преобразования для аугментации.\n",
    "        \"\"\"\n",
    "        self.img_dir = img_dir\n",
    "        self.transform = transform\n",
    "        # Собираем список файлов с нужными расширениями\n",
    "        self.img_files = [f for f in os.listdir(img_dir) if f.endswith(('.tif', '.jpeg', '.jpg'))]\n",
    "\n",
    "    def __len__(self):\n",
    "        \"\"\"Возвращает количество изображений в датасете.\"\"\"\n",
    "        return len(self.img_files)\n",
    "\n",
    "    def __getitem__(self, idx):\n",
    "        \"\"\"\n",
    "        Загружает изображение и применяет аугментации.\n",
    "        :param idx: Индекс изображения.\n",
    "        :return: Аугментированное изображение.\n",
    "        \"\"\"\n",
    "        img_path = os.path.join(self.img_dir, self.img_files[idx])\n",
    "        image = Image.open(img_path).convert('RGB')  # Загружаем и конвертируем в RGB\n",
    "\n",
    "        if self.transform:\n",
    "            image = self.transform(image)  # Применяем аугментации\n",
    "\n",
    "        return image"
   ]
  },
  {
   "cell_type": "markdown",
   "id": "0a37e902-856c-4286-ae0f-0964b35121e2",
   "metadata": {},
   "source": [
    "## 3. Определение аугментаций"
   ]
  },
  {
   "cell_type": "code",
   "execution_count": null,
   "id": "2eb6e55a-ce40-4b9b-af21-bc1fd6f954bf",
   "metadata": {},
   "outputs": [],
   "source": [
    "# Определяем аугментации\n",
    "augmentation_pipeline = transforms.Compose([\n",
    "    transforms.Resize((224, 224)),  # Изменение размера до 224x224\n",
    "    transforms.RandomHorizontalFlip(p=0.5),  # Горизонтальное отражение с вероятностью 50%\n",
    "    transforms.RandomVerticalFlip(p=0.5),  # Вертикальное отражение с вероятностью 50%\n",
    "    transforms.ColorJitter(brightness=0.2, contrast=0.2),  # Коррекция яркости и контрастности\n",
    "    transforms.RandomResizedCrop(size=(224, 224), scale=(0.8, 1.0)),  # Случайная обрезка\n",
    "    transforms.RandomRotation(30),  # Поворот на угол до 30 градусов\n",
    "    transforms.ToTensor(),  # Преобразование в тензор\n",
    "])"
   ]
  },
  {
   "cell_type": "markdown",
   "id": "46734527-09b8-4136-bab3-621633327192",
   "metadata": {},
   "source": [
    "## 4. Создание датасета и DataLoader"
   ]
  },
  {
   "cell_type": "code",
   "execution_count": null,
   "id": "086dbb41-fd96-471a-94eb-60011516654b",
   "metadata": {},
   "outputs": [],
   "source": [
    "# Путь к директории с изображениями\n",
    "img_dir = 'path_to_your_images'\n",
    "\n",
    "# Создаем датасет с аугментациями\n",
    "dataset = AugmentedDataset(img_dir, transform=augmentation_pipeline)\n",
    "\n",
    "# Создаем DataLoader для пакетной обработки\n",
    "dataloader = DataLoader(dataset, batch_size=8, shuffle=True)"
   ]
  },
  {
   "cell_type": "markdown",
   "id": "ccb3ff29-e8c7-4ec7-81e2-b90cce703483",
   "metadata": {},
   "source": [
    "## 5. Визуализация аугментированных изображений"
   ]
  },
  {
   "cell_type": "code",
   "execution_count": null,
   "id": "1811a2be-2a4c-468a-8912-b1049990e9e7",
   "metadata": {},
   "outputs": [],
   "source": [
    "def show_images(images, nrow=4):\n",
    "    \"\"\"\n",
    "    Визуализация изображений.\n",
    "    :param images: Тензор с изображениями.\n",
    "    :param nrow: Количество изображений в строке.\n",
    "    \"\"\"\n",
    "    images = images.numpy().transpose((0, 2, 3, 1))  # Преобразуем тензор в формат для matplotlib\n",
    "    plt.figure(figsize=(10, 10))\n",
    "    for i in range(len(images)):\n",
    "        plt.subplot(len(images) // nrow + 1, nrow, i + 1)\n",
    "        plt.imshow(images[i])\n",
    "        plt.axis('off')\n",
    "    plt.show()\n",
    "\n",
    "# Пример визуализации\n",
    "images = next(iter(dataloader))\n",
    "show_images(images)"
   ]
  },
  {
   "cell_type": "markdown",
   "id": "959f3366-5bc2-4b9b-8ee7-fa6c209767f5",
   "metadata": {},
   "source": [
    "## Комментарии\n",
    "Избежание избыточной аугментации: Мы ограничили поворот до 30 градусов и добавили случайное отражение с вероятностью 50%.\n",
    "Минимальный шум: Мы не добавили шум, так как torchvision.transforms.RandomNoise отсутствует в стандартной библиотеке. \n",
    "Если нужно, можно реализовать кастомное добавление шума.\n",
    "Поддержка форматов: Мы предусмотрели загрузку изображений в форматах .tif, .jpeg, .jpg."
   ]
  },
  {
   "cell_type": "markdown",
   "id": "64e63cf4-ef2b-44a3-82f8-adf54485838e",
   "metadata": {},
   "source": [
    "## 7. Интеграция в обучение"
   ]
  },
  {
   "cell_type": "code",
   "execution_count": null,
   "id": "b5dd0e65-0be9-40d9-a962-8d57b90bf117",
   "metadata": {},
   "outputs": [],
   "source": [
    "# Пример использования в цикле обучения\n",
    "for epoch in range(10):  # 10 эпох\n",
    "    for batch in dataloader:\n",
    "        # batch - это тензор с аугментированными изображениями\n",
    "        # Здесь можно добавить код для обучения модели\n",
    "        pass"
   ]
  }
 ],
 "metadata": {
  "kernelspec": {
   "display_name": "Python 3 (ipykernel)",
   "language": "python",
   "name": "python3"
  },
  "language_info": {
   "codemirror_mode": {
    "name": "ipython",
    "version": 3
   },
   "file_extension": ".py",
   "mimetype": "text/x-python",
   "name": "python",
   "nbconvert_exporter": "python",
   "pygments_lexer": "ipython3",
   "version": "3.11.3"
  }
 },
 "nbformat": 4,
 "nbformat_minor": 5
}
